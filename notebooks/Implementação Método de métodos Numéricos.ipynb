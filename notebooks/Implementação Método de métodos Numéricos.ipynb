{
 "cells": [
  {
   "cell_type": "code",
   "execution_count": 40,
   "id": "928c2153",
   "metadata": {},
   "outputs": [],
   "source": [
    "# Bibliotecas\n",
    "import numpy as np\n",
    "from numpy import dot\n",
    "from numpy.linalg import norm\n",
    "import matplotlib.pyplot as plt\n",
    "\n"
   ]
  },
  {
   "cell_type": "code",
   "execution_count": 41,
   "id": "3ac023a2",
   "metadata": {},
   "outputs": [],
   "source": [
    "def metodo_gradiente(A, b, x_0, erro):\n",
    "    erro_atual = [1]\n",
    "    iteracao = 0\n",
    "    x = [x_0]\n",
    "    max_iter = 200\n",
    "    \n",
    "    while True:\n",
    "        r = b - dot(A, x[iteracao])\n",
    "#         print('r: \\n', r)\n",
    "        alfa = dot(r.T, r)/dot(dot(r.T, A), r)\n",
    "#         print('\\nalfa: \\n', alfa[0,0])\n",
    "        x.append((x[iteracao] + (alfa[0,0]* r)))\n",
    "#         print('\\nnext_x: \\n', x[iteracao])\n",
    "        \n",
    "        iteracao+=1\n",
    "        erro_atual.append( (norm(x[iteracao] - x[iteracao-1] )/norm(x[iteracao])))\n",
    "        \n",
    "#         print('\\nerro: \\n', erro_atual)\n",
    "        \n",
    "        if erro_atual[iteracao] <= erro:\n",
    "            break\n",
    "        if iteracao >= max_iter:\n",
    "            print('\\nMáximo de Interação Atingido! ')\n",
    "            break\n",
    "    return x, erro_atual\n",
    "        "
   ]
  },
  {
   "cell_type": "markdown",
   "id": "88fd85dd",
   "metadata": {},
   "source": [
    "# Teste 1"
   ]
  },
  {
   "cell_type": "code",
   "execution_count": 32,
   "id": "cd41d5cd",
   "metadata": {},
   "outputs": [
    {
     "name": "stdout",
     "output_type": "stream",
     "text": [
      "A: \n",
      " [[1 4]\n",
      " [1 3]]\n",
      "\n",
      "b: \n",
      " [[5]\n",
      " [4]]\n",
      "\n",
      "x_0: \n",
      " [[0.8]\n",
      " [0.8]]\n",
      "\n",
      "erro:  1e-05\n",
      "\n",
      "----------RESULTADOS------------\n",
      "\n",
      "numero de Iterações:  9\n",
      "X Final:  [1.00000149 0.99999958]\n",
      "Erro final:  8.633298137413144e-06\n",
      "\n",
      "X:\n",
      "0 : [0.8 0.8]\n",
      "1 : [1.03699422 0.98959538]\n",
      "2 : [1.01592807 1.01592807]\n",
      "3 : [0.99705377 1.00082863]\n",
      "4 : [0.99873148 0.99873148]\n",
      "5 : [1.00023464 0.99993401]\n",
      "6 : [1.00010103 1.00010103]\n",
      "7 : [0.99998131 1.00000526]\n",
      "8 : [0.99999195 0.99999195]\n",
      "9 : [1.00000149 0.99999958]\n",
      "\n",
      "Erros: \n",
      " [1, 0.21173376262044005, 0.023471411724835137, 0.01710948954406858, 0.0019014569727157846, 0.0013610503777885176, 0.00015122529595254657, 0.00010840437604568831, 1.204494671896268e-05, 8.633298137413144e-06]\n"
     ]
    }
   ],
   "source": [
    "# Valores Iniciais\n",
    "\n",
    "A = np.array([[1,4],[1,3]])\n",
    "b = np.array([[5,4]]).T\n",
    "x_0 = np.array([[0.8,0.8]]).T\n",
    "erro = 1e-5\n",
    "\n",
    "print('A: \\n', A)\n",
    "print()\n",
    "print('b: \\n', b)\n",
    "print()\n",
    "print('x_0: \\n', x_0)\n",
    "print()\n",
    "print('erro: ', erro)\n",
    "\n",
    "resultado , erro_x= metodo_gradiente(A, b, x_0, erro)\n",
    "\n",
    "print('\\n----------RESULTADOS------------\\n')\n",
    "\n",
    "print('numero de Iterações: ', len(resultado)-1)\n",
    "print('X Final: ', resultado[-1].flatten())\n",
    "print('Erro final: ', erro_x[-1])\n",
    "\n",
    "print('\\nX:')\n",
    "for i, a in enumerate(resultado): print(f'{i} : {a.flatten()}' )\n",
    "print('\\nErros: \\n', erro_x)\n",
    "\n"
   ]
  },
  {
   "cell_type": "markdown",
   "id": "6ed8bab0",
   "metadata": {},
   "source": [
    "# Teste 2"
   ]
  },
  {
   "cell_type": "code",
   "execution_count": 57,
   "id": "bc5d650b",
   "metadata": {},
   "outputs": [
    {
     "name": "stdout",
     "output_type": "stream",
     "text": [
      "Solução encontrada: [-3.83207955e-16  2.00000000e+00  2.00000000e+00  1.00000000e+00]\n"
     ]
    }
   ],
   "source": [
    "import numpy as np\n",
    "from scipy.sparse.linalg import gmres\n",
    "\n",
    "# Defina sua matriz A e vetor b do sistema linear Ax = b\n",
    "A = np.array([[-1, -1, 1,1], [1, -1, 1,1], [-1, 1, -1,1], [1,1,1,1]])\n",
    "b = np.array([1, 1, 1, 5])\n",
    "\n",
    "# Use o GMRES para resolver o sistema linear Ax = b\n",
    "x, info = gmres(A, b)\n",
    "\n",
    "if info == 0:\n",
    "    print(\"Solução encontrada:\", x)\n",
    "else:\n",
    "    print(\"GMRES não convergiu para uma solução.\")"
   ]
  },
  {
   "cell_type": "code",
   "execution_count": null,
   "id": "214dfc09",
   "metadata": {},
   "outputs": [],
   "source": []
  }
 ],
 "metadata": {
  "kernelspec": {
   "display_name": "Python 3 (ipykernel)",
   "language": "python",
   "name": "python3"
  },
  "language_info": {
   "codemirror_mode": {
    "name": "ipython",
    "version": 3
   },
   "file_extension": ".py",
   "mimetype": "text/x-python",
   "name": "python",
   "nbconvert_exporter": "python",
   "pygments_lexer": "ipython3",
   "version": "3.11.5"
  }
 },
 "nbformat": 4,
 "nbformat_minor": 5
}
